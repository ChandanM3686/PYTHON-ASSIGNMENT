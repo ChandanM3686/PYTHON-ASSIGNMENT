{
 "cells": [
  {
   "cell_type": "code",
   "execution_count": 13,
   "id": "abb6e6f6",
   "metadata": {},
   "outputs": [
    {
     "name": "stdout",
     "output_type": "stream",
     "text": [
      "3\n",
      "2\n",
      "False\n",
      "True\n"
     ]
    }
   ],
   "source": [
    "#part1 \n",
    "#problem 1 (stack)\n",
    "#step 1 define a class stack \n",
    "#step 2 implement the stack \n",
    "\n",
    "class Stack:\n",
    "\n",
    "    def __init__(self):\n",
    "        self.items =[]\n",
    "    def push(self,item):\n",
    "        self.items.append(item)\n",
    "    def pop(self):\n",
    "        if not self.is_empty():\n",
    "            return self.items.pop()\n",
    "    def peek(self):\n",
    "        if not self.is_empty():\n",
    "            return self.items[-1]\n",
    "    def is_empty(self):\n",
    "        return len(self.items)==0\n",
    "    \n",
    "    stack=Stack()\n",
    "    \n",
    "    stack.push(1)\n",
    "    stack.push(2)\n",
    "    stack.push(3)\n",
    "    \n",
    "    print(stack.peek())\n",
    "    \n",
    "    stack.pop()\n",
    "    \n",
    "    print(stack.peek())\n",
    "    \n",
    "    print(stack.is_empty())\n",
    "    \n",
    "    stack.pop()\n",
    "    stack.pop()\n",
    "    \n",
    "    print(stack.is_empty())"
   ]
  },
  {
   "cell_type": "code",
   "execution_count": 15,
   "id": "980c7d35",
   "metadata": {},
   "outputs": [],
   "source": [
    "#problem 2.\n",
    "#queue\n",
    "#first define a class queue\n",
    "#enqueue method append the item to end of the list\n",
    "\n",
    "class Queue:\n",
    "    def __init__(self):\n",
    "        self.items =[]\n",
    "        \n",
    "    def enqueue(self,item):\n",
    "        self.items.append(item)\n",
    "        \n",
    "    def dequeue(self):\n",
    "        if self.is_empty():\n",
    "            raise Exception(\"queue is empty\")\n",
    "        return self.items.pop(0)\n",
    "    def peek(self):\n",
    "        if self.is_empty():\n",
    "            raise Exception(\"queue is empty\")\n",
    "        return self.items[0]\n",
    "    def is_empty(self):\n",
    "        return len(self.items)==0"
   ]
  },
  {
   "cell_type": "code",
   "execution_count": 29,
   "id": "dd412265",
   "metadata": {},
   "outputs": [],
   "source": [
    "#problem3 \n",
    "#binary search tree\n",
    "class Node:\n",
    "    def __init__(self,value):\n",
    "        self.value = value\n",
    "        self.left = None\n",
    "        self.right = None\n",
    "class BinarySearchTree:\n",
    "    def __init__(self):\n",
    "        self.root =None\n",
    "        self.count =0\n",
    "    \n",
    "    def insert(self,value):\n",
    "        node = Node(value)\n",
    "        if self.root is None:\n",
    "            self.root = node\n",
    "        else:\n",
    "            current = self.root\n",
    "        while True:\n",
    "            if value < current.value:\n",
    "                \n",
    "                if current.left == node:\n",
    "            \n",
    "                  break\n",
    "            if current == current.left:\n",
    "                \n",
    "                if current.right is None:\n",
    "                    \n",
    "                     break\n",
    "                else:\n",
    "                    current == current.right\n",
    "        self.count +=1\n",
    "    def search(self,value):\n",
    "        current = self.root\n",
    "        while current is not None:\n",
    "            if current.value == value:\n",
    "                return True\n",
    "            elif value< current.value:\n",
    "                current = current.left\n",
    "            else:\n",
    "                current = current.right\n",
    "            return False\n",
    "    def delete(self,value):\n",
    "        def remove(node,value):\n",
    "            if node is None:\n",
    "                return None\n",
    "            if value== node.value:\n",
    "                if node.left is None:\n",
    "                    return node.right\n",
    "                if node.right is None:\n",
    "                    return node.left\n",
    "                temp = node.right\n",
    "                while temp.left is not None:\n",
    "                    temp=temp.left\n",
    "                node.value = temp.value\n",
    "                node.right= remove(node.right,temp.value)\n",
    "                \n",
    "               \n",
    "                    \n",
    "                value<node.value\n",
    "                \n",
    "                       \n",
    "                \n",
    "                    \n",
    "                    \n",
    "                return node\n",
    "            \n",
    "            self.root= remove(self.root,value)\n",
    "            self.count-=1\n",
    "            \n",
    "            def size(self):\n",
    "                return self.count"
   ]
  },
  {
   "cell_type": "code",
   "execution_count": 30,
   "id": "020425dc",
   "metadata": {},
   "outputs": [],
   "source": [
    "#Anagram checker\n",
    "def is_anagram(s1,s2):\n",
    "     \n",
    "    s1 = s1.replace(\"\",\"\").lower()\n",
    "    s2 = s2.replace(\"\",\"\").lower()\n",
    "    #check if two string have same lenght \n",
    "    if len (s1)!=len(s2):\n",
    "        return False\n",
    "    return sorted(s1)== sorted(s2)"
   ]
  },
  {
   "cell_type": "code",
   "execution_count": 34,
   "id": "27738eec",
   "metadata": {},
   "outputs": [],
   "source": [
    "#fizzbuzz\n",
    "def fizbuzz(n):\n",
    "    for i in range(1,n+1):\n",
    "        if i%3 == 0 and i %5 ==0:\n",
    "            print(\"fizzbuzz\")\n",
    "        if i%3 ==0:\n",
    "            print(\"Fizz\")\n",
    "        if i %5 ==0:\n",
    "            print(\"Buzz\")\n",
    "        else:\n",
    "            print(i)\n",
    "            "
   ]
  },
  {
   "cell_type": "code",
   "execution_count": 37,
   "id": "f31aa97a",
   "metadata": {},
   "outputs": [],
   "source": [
    "#fibonacci\n",
    "def fibonacci(n):\n",
    "    if n <=0:\n",
    "        return \"invalid input.please enter a positive integer greater than 0.\"\n",
    "    if n==1:\n",
    "        return 0\n",
    "    if  n==2:\n",
    "        return 1\n",
    "    else:\n",
    "        return fibonacci(n-1)+ fibonacci(n-2)"
   ]
  },
  {
   "cell_type": "code",
   "execution_count": 41,
   "id": "809567b0",
   "metadata": {},
   "outputs": [
    {
     "name": "stdout",
     "output_type": "stream",
     "text": [
      "21\n"
     ]
    }
   ],
   "source": [
    "print(fibonacci(9))"
   ]
  },
  {
   "cell_type": "code",
   "execution_count": null,
   "id": "2b97985e",
   "metadata": {},
   "outputs": [],
   "source": []
  }
 ],
 "metadata": {
  "kernelspec": {
   "display_name": "Python 3 (ipykernel)",
   "language": "python",
   "name": "python3"
  },
  "language_info": {
   "codemirror_mode": {
    "name": "ipython",
    "version": 3
   },
   "file_extension": ".py",
   "mimetype": "text/x-python",
   "name": "python",
   "nbconvert_exporter": "python",
   "pygments_lexer": "ipython3",
   "version": "3.11.1"
  }
 },
 "nbformat": 4,
 "nbformat_minor": 5
}
